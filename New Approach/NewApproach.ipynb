{
 "cells": [
  {
   "cell_type": "markdown",
   "metadata": {},
   "source": [
    "Imports"
   ]
  },
  {
   "cell_type": "code",
   "execution_count": 1,
   "metadata": {},
   "outputs": [],
   "source": [
    "import glob\n",
    "import os\n",
    "import time\n",
    "import warnings\n",
    "\n",
    "import cv2\n",
    "import imageio\n",
    "import matplotlib\n",
    "import matplotlib.pyplot as plt\n",
    "import numpy as np  # linear algebra\n",
    "import pandas as pd  # data processing, CSV file I/O (e.g. pd.read_csv)\n",
    "import PIL\n",
    "import tensorflow as tf\n",
    "import tensorflow_probability as tfp\n",
    "from IPython.display import clear_output\n",
    "from keras.preprocessing.image import img_to_array, load_img\n",
    "from keras.utils.generic_utils import get_custom_objects\n",
    "from skimage.color import lab2rgb, rgb2lab\n",
    "from sklearn.model_selection import train_test_split\n",
    "from tensorflow.keras import backend as K\n",
    "from tensorflow.keras import layers\n",
    "from tensorflow.keras.layers import (Activation, BatchNormalization, Conv2D,\n",
    "                                     Input, InputLayer, LeakyReLU,\n",
    "                                     MaxPooling2D, UpSampling2D)\n",
    "from tensorflow.keras.models import Model, Sequential\n",
    "from tensorflow.keras.optimizers import Adam\n",
    "from tensorflow.keras.preprocessing.image import ImageDataGenerator\n",
    "from tensorflow.keras.utils import Sequence\n",
    "from tqdm import tqdm\n",
    "\n",
    "##warnings.filterwarnings(\"ignore\")"
   ]
  },
  {
   "cell_type": "markdown",
   "metadata": {},
   "source": [
    "Data Loaders & Helpers"
   ]
  },
  {
   "cell_type": "code",
   "execution_count": 2,
   "metadata": {},
   "outputs": [],
   "source": [
    "HEIGHT = 128\n",
    "WIDTH  = 128"
   ]
  },
  {
   "cell_type": "code",
   "execution_count": 3,
   "metadata": {},
   "outputs": [],
   "source": [
    "class DataGenerator(Sequence):\n",
    "    def __init__(self, image_paths, batch_size):\n",
    "        self.paths = image_paths\n",
    "        self.batch_size = batch_size\n",
    "\n",
    "    def __len__(self):\n",
    "        return int(np.ceil(len(self.paths) / float(self.batch_size)))\n",
    "\n",
    "    def __getitem__(self, idx):\n",
    "        images = self.paths[idx * self.batch_size:(idx + 1) * self.batch_size]\n",
    "\n",
    "        \n",
    "        return self.__getImages(images)\n",
    "\n",
    "    def __getImages(self,paths):\n",
    "        X_img=[]\n",
    "        y_img=[]\n",
    "        for imageDir in paths:\n",
    "            try:\n",
    "                image = img_to_array(load_img(imageDir,target_size=(HEIGHT,WIDTH)))\n",
    "                lab_image = rgb2lab( (1/255) * image)\n",
    "                X_img.append(lab_image[:,:,0].reshape(HEIGHT,WIDTH,1))\n",
    "                y_img.append((lab_image[:,:,1:]/128).reshape(HEIGHT,WIDTH,2))\n",
    "            except:\n",
    "                continue\n",
    "        X_img = np.array(X_img)\n",
    "        y_img = np.array(y_img)\n",
    "        return X_img,y_img\n",
    "    def shuffle(self):\n",
    "        np.random.shuffle(self.paths)"
   ]
  },
  {
   "cell_type": "markdown",
   "metadata": {},
   "source": [
    "PARAMS"
   ]
  },
  {
   "cell_type": "code",
   "execution_count": 4,
   "metadata": {},
   "outputs": [],
   "source": [
    "def custom_activation(x):\n",
    "    return ((K.sigmoid(x)-0.5)/0.5)\n",
    "get_custom_objects().update({'custom_activation':Activation(custom_activation)})\n",
    "\n",
    "\n"
   ]
  },
  {
   "cell_type": "markdown",
   "metadata": {},
   "source": [
    "CODE"
   ]
  },
  {
   "cell_type": "code",
   "execution_count": 5,
   "metadata": {},
   "outputs": [],
   "source": [
    "def make_generator_model():\n",
    "    model = Sequential([\n",
    "    \n",
    "    Conv2D(16,(3,3),padding='same',strides=1),\n",
    "    LeakyReLU(),\n",
    "    Conv2D(32,(3,3),padding='same',strides=1),\n",
    "    Conv2D(32,(3,3),padding='same',strides=1),\n",
    "    \n",
    "    LeakyReLU(),\n",
    "    BatchNormalization(),\n",
    "    MaxPooling2D(pool_size=(2,2),padding='same'),\n",
    "    \n",
    "    Conv2D(64,(3,3),padding='same',strides=1),\n",
    "    LeakyReLU(),\n",
    "    BatchNormalization(),\n",
    "    MaxPooling2D(pool_size=(2,2),padding='same'),\n",
    "    \n",
    "    Conv2D(128,(3,3),padding='same',strides=1),\n",
    "    LeakyReLU(),\n",
    "    BatchNormalization(),\n",
    "    \n",
    "    Conv2D(256,(3,3),padding='same',strides=1),\n",
    "    LeakyReLU(),\n",
    "    BatchNormalization(),\n",
    "    \n",
    "    UpSampling2D((2, 2)),\n",
    "    Conv2D(128,(3,3),padding='same',strides=1),\n",
    "    LeakyReLU(),\n",
    "    BatchNormalization(),\n",
    "    \n",
    "    UpSampling2D((2, 2)),\n",
    "    Conv2D(64,(3,3), padding='same',strides=1),\n",
    "    LeakyReLU(),\n",
    "    \n",
    "    Conv2D(64,(3,3), padding='same',strides=1),\n",
    "    LeakyReLU(),\n",
    "    BatchNormalization(),\n",
    "    \n",
    "    Conv2D(32,(3,3),padding='same',strides=1),\n",
    "    LeakyReLU(),\n",
    "    \n",
    "    Conv2D(2,(3,3), activation=custom_activation,padding='same',strides=1),\n",
    "    ])\n",
    "    img = Input(shape=(HEIGHT, WIDTH,1))\n",
    "    validity = model(img)\n",
    "\n",
    "    return Model(img, validity)\n",
    "    "
   ]
  },
  {
   "cell_type": "code",
   "execution_count": 6,
   "metadata": {},
   "outputs": [],
   "source": [
    "def make_discriminator_model():\n",
    "    model = tf.keras.Sequential([\n",
    "        \n",
    "        layers.Conv2D(16, (5, 5), strides=(2, 2), padding='same'),\n",
    "        layers.MaxPool2D((2,2)),\n",
    "        layers.Dropout(0.3),\n",
    "        layers.Conv2D(32, (3, 3), strides=(2, 2), padding='same'),\n",
    "        layers.MaxPool2D((2,2)),\n",
    "        BatchNormalization(),\n",
    "        layers.LeakyReLU(),\n",
    "        layers.Dropout(0.5),\n",
    "        layers.Flatten(),\n",
    "        layers.Dense(1, activation='sigmoid')\n",
    "    ])\n",
    "    img = Input(shape=(HEIGHT, WIDTH,2))\n",
    "    validity = model(img)\n",
    "\n",
    "    return Model(img, validity)\n",
    "    \n",
    "\n",
    "\n",
    "    return model"
   ]
  },
  {
   "cell_type": "markdown",
   "metadata": {},
   "source": [
    "Custom "
   ]
  },
  {
   "cell_type": "code",
   "execution_count": 7,
   "metadata": {},
   "outputs": [],
   "source": [
    "\n",
    "def PSNR(y_true,y_pred):\n",
    "\t# print(\"CALLING PSNR\")\n",
    "\treturn tf.image.psnr(y_true,y_pred,2)\n",
    "\n",
    "\n",
    "\n",
    "def custom_binary(y_true,y_pred):\n",
    "\t# print(\"CALLING CUSTOM BINARY\")\n",
    "\treturn tf.keras.losses.BinaryCrossentropy(label_smoothing=0.1)(tf.convert_to_tensor(np.ones(y_pred.shape),dtype=tf.float32),y_pred)\n",
    "\n",
    "def SSIM(y_true, y_pred):\n",
    "  return tf.reduce_mean(tf.image.ssim(y_true +1 , y_pred+1, 2.0))\n",
    "\n",
    "\n"
   ]
  },
  {
   "cell_type": "code",
   "execution_count": 8,
   "metadata": {},
   "outputs": [],
   "source": [
    "def create_gan():\n",
    "    discriminator = make_discriminator_model()\n",
    "    discriminator.compile(loss=tf.keras.losses.BinaryCrossentropy(label_smoothing=0.1),\n",
    "                      optimizer=Adam(0.0002, 0.5),\n",
    "                      metrics =['accuracy']\n",
    "                      )\n",
    "    generator = make_generator_model()\n",
    "\n",
    "    \n",
    "    z = Input(shape=(HEIGHT, WIDTH,1))\n",
    "    zimg = generator(z)\n",
    "    discriminator.trainable = False\n",
    "    zvalid = discriminator(zimg)\n",
    "\n",
    "    combined = Model(inputs=z,outputs={'disc':zvalid,'image':zimg})\n",
    "\n",
    "\n",
    "\n",
    "    combined.compile(loss={\n",
    "    \"image\":[PSNR,tf.keras.losses.MeanAbsoluteError(),SSIM],\n",
    "    'disc':[custom_binary]\n",
    "                            }, optimizer=Adam(0.0002, 0.5))\n",
    "    return generator,discriminator,combined\n"
   ]
  },
  {
   "cell_type": "markdown",
   "metadata": {},
   "source": [
    "Gan Created"
   ]
  },
  {
   "cell_type": "code",
   "execution_count": 9,
   "metadata": {},
   "outputs": [
    {
     "name": "stdout",
     "output_type": "stream",
     "text": [
      "Model: \"model_2\"\n",
      "_________________________________________________________________\n",
      " Layer (type)                Output Shape              Param #   \n",
      "=================================================================\n",
      " input_3 (InputLayer)        [(None, 128, 128, 1)]     0         \n",
      "                                                                 \n",
      " model_1 (Functional)        (None, 128, 128, 2)       829058    \n",
      "                                                                 \n",
      " model (Functional)          (None, 1)                 7633      \n",
      "                                                                 \n",
      "=================================================================\n",
      "Total params: 836,691\n",
      "Trainable params: 827,714\n",
      "Non-trainable params: 8,977\n",
      "_________________________________________________________________\n"
     ]
    }
   ],
   "source": [
    "generator, discriminator,combined = create_gan()\n",
    "combined.summary()"
   ]
  },
  {
   "cell_type": "code",
   "execution_count": 10,
   "metadata": {},
   "outputs": [],
   "source": [
    "imagepaths= os.listdir(\"../test 2017\")\n",
    "imagepaths = list(map(lambda x:'../test2017/'+x,imagepaths))"
   ]
  },
  {
   "cell_type": "code",
   "execution_count": 11,
   "metadata": {},
   "outputs": [],
   "source": [
    "test_input,reals = DataGenerator(imagepaths,4).__getitem__(0)\n",
    "def generate_and_save_images(model,epoch):\n",
    "\n",
    "  predictions = model.predict(test_input)\n",
    "\n",
    "  fig = plt.figure(figsize=(8, 8))\n",
    "  fig.tight_layout()\n",
    "  \n",
    "  with warnings.catch_warnings():\n",
    "    warnings.simplefilter(\"ignore\")\n",
    "    for i,(lmap,pred,real) in enumerate(list(zip(test_input,predictions,reals))):\n",
    "        plt.subplot(4, 2, 2*(i+1))\n",
    "        img = np.zeros((WIDTH,HEIGHT,3)).reshape(HEIGHT,WIDTH,3)\n",
    "        \n",
    "        img[:,:,0] =lmap.reshape(HEIGHT,WIDTH)\n",
    "        \n",
    "        \n",
    "        img[:,:,1:] = pred.reshape(HEIGHT,WIDTH,2) *128\n",
    "        # print(\"PREDICTION\",img[:,:,1:].min(),img[:,:,1:].max())\n",
    "        img = img \n",
    "\n",
    "        rgb_img = lab2rgb(img)\n",
    "        plt.imshow(rgb_img)\n",
    "        plt.axis('off')\n",
    "        plt.subplot(4,2,2*(i+1) -1)\n",
    "      \n",
    "        img[:,:,0] =lmap.reshape(HEIGHT,WIDTH) \n",
    "        img[:,:,1:] = real.reshape(HEIGHT,WIDTH,2)*128 \n",
    "        img = img\n",
    "        rgb_img = lab2rgb(img)\n",
    "\n",
    "      \n",
    "\n",
    "\n",
    "        plt.imshow(rgb_img)\n",
    "        plt.axis('off')\n",
    "\n",
    "\n",
    "  plt.savefig('./Results/image_at_epoch_{:06d}.png'.format(epoch))\n",
    "  plt.close()"
   ]
  },
  {
   "cell_type": "code",
   "execution_count": 12,
   "metadata": {},
   "outputs": [],
   "source": [
    "\n",
    "def train( epochs, batch_size=128,steps_per_epoch=50, save_interval=50,start=0):\n",
    "\n",
    "        # Load the dataset\n",
    "        \n",
    "        data_gen = DataGenerator(imagepaths,batch_size)\n",
    "        # Adversarial ground truths\n",
    "        valid = np.ones((batch_size, 1)) \n",
    "        fake = np.zeros((batch_size, 1)) \n",
    "\n",
    "        for epoch in range(epochs):\n",
    "\n",
    "            g_loss = [0,0,0]\n",
    "            d_loss = [0,0]\n",
    "            for _ in range(steps_per_epoch):\n",
    "                images,labels = data_gen.__getitem__(0)\n",
    "                data_gen.shuffle()\n",
    "\n",
    "            \n",
    "                noise_img = images + np.random.normal(size=labels.shape, scale=0.0001,loc=0)\n",
    "                gen_imgs = generator.predict(images)\n",
    "\n",
    "                # Train the discriminator (real classified as ones and generated as zeros)\n",
    "                discriminator.trainable = True\n",
    "                d_loss_real = discriminator.train_on_batch(noise_img, valid)\n",
    "                d_loss_fake = discriminator.train_on_batch(gen_imgs, fake)\n",
    "                \n",
    "\n",
    "\n",
    "                d_losss = 0.5 * np.add(d_loss_real, d_loss_fake)\n",
    "                d_loss = np.add(d_loss,d_losss)\n",
    "                discriminator.trainable = False\n",
    "                \n",
    "                # ---------------------\n",
    "                #  Train Generator\n",
    "                # ---------------------\n",
    "                # Train the generator (wants discriminator to mistake images as real)\n",
    "                g_losss = combined.train_on_batch(images,labels)\n",
    "                # print(g_losss)\n",
    "                # print(combined.metrics_names)\n",
    "                # predictions = combined.predict(images)['image']\n",
    "                # psnr = PSNR(labels,predictions)\n",
    "                # MSE  = tf.keras.losses.MeanSquaredError()(labels,predictions)\n",
    "                # fid  = FID(labels,predictions)\n",
    "                # print(psnr)\n",
    "                # print(MSE)\n",
    "                # print(fid)\n",
    "                g_loss = np.add(g_loss,g_losss)\n",
    "                \n",
    "                # Plot the progress\n",
    "            \n",
    "            # clear_output()\n",
    "           \n",
    "            d_loss = d_loss /steps_per_epoch\n",
    "            g_loss = g_loss /steps_per_epoch\n",
    "            print (\"%d [D loss: %f, acc.: %.2f%%] [G loss: %f, GG loss %f , GD loss %f]\" % (epoch+start, d_loss[0], 100*d_loss[1], g_loss[0], g_loss[1], g_loss[2]))\n",
    "\n",
    "            # If at save interval => save generated image samples\n",
    "            if epoch % save_interval == 0:\n",
    "                generate_and_save_images(generator,epoch+start)\n",
    "                combined.save_weights('./Checkpoints/Final_Combined_solution_{:06d}.h5'.format(epoch+start))\n",
    "                generator.save_weights('./Checkpoints/Final_Gen_solution_{:06d}.h5'.format(epoch+start))\n",
    "                discriminator.save_weights('./Checkpoints/Final_Disc_solution_{:06d}.h5'.format(epoch+start))\n",
    "        combined.save_weights('./Checkpoints/Final_Combined_solution_{:06d}.h5'.format(epochs+start))\n",
    "        generator.save_weights('./Checkpoints/Final_Gen_solution_{:06d}.h5'.format(epochs+start))\n",
    "        discriminator.save_weights('./Checkpoints/Final_Disc_solution_{:06d}.h5'.format(epochs+start))\n",
    "\n"
   ]
  },
  {
   "cell_type": "code",
   "execution_count": 13,
   "metadata": {},
   "outputs": [
    {
     "name": "stdout",
     "output_type": "stream",
     "text": [
      "0 [D loss: 0.855493, acc.: 52.19%] [G loss: 9.630328, GG loss 0.714826 , GD loss 8.915502]\n",
      "1 [D loss: 0.734297, acc.: 59.38%] [G loss: 7.645803, GG loss 0.758732 , GD loss 6.887072]\n",
      "2 [D loss: 0.566904, acc.: 72.81%] [G loss: 7.223284, GG loss 0.745969 , GD loss 6.477316]\n",
      "3 [D loss: 0.512379, acc.: 78.44%] [G loss: 7.048630, GG loss 0.800092 , GD loss 6.248538]\n",
      "4 [D loss: 0.512090, acc.: 79.38%] [G loss: 6.959771, GG loss 0.830299 , GD loss 6.129472]\n",
      "5 [D loss: 0.488171, acc.: 82.50%] [G loss: 6.889293, GG loss 0.789470 , GD loss 6.099823]\n",
      "6 [D loss: 0.436877, acc.: 85.62%] [G loss: 6.844955, GG loss 0.791129 , GD loss 6.053827]\n",
      "7 [D loss: 0.441651, acc.: 86.56%] [G loss: 6.829532, GG loss 0.817558 , GD loss 6.011974]\n",
      "8 [D loss: 0.411939, acc.: 86.56%] [G loss: 6.768213, GG loss 0.755269 , GD loss 6.012944]\n",
      "9 [D loss: 0.318141, acc.: 94.69%] [G loss: 6.672423, GG loss 0.713278 , GD loss 5.959144]\n",
      "10 [D loss: 0.341150, acc.: 93.12%] [G loss: 6.692622, GG loss 0.699180 , GD loss 5.993442]\n",
      "11 [D loss: 0.348028, acc.: 90.62%] [G loss: 6.632747, GG loss 0.668911 , GD loss 5.963836]\n",
      "12 [D loss: 0.357005, acc.: 90.31%] [G loss: 6.551117, GG loss 0.609825 , GD loss 5.941293]\n",
      "13 [D loss: 0.289624, acc.: 95.00%] [G loss: 6.524036, GG loss 0.579889 , GD loss 5.944147]\n",
      "14 [D loss: 0.297399, acc.: 94.06%] [G loss: 6.475573, GG loss 0.584221 , GD loss 5.891353]\n",
      "15 [D loss: 0.294382, acc.: 95.31%] [G loss: 6.419368, GG loss 0.519756 , GD loss 5.899612]\n",
      "16 [D loss: 0.266529, acc.: 97.50%] [G loss: 6.446852, GG loss 0.529246 , GD loss 5.917606]\n",
      "17 [D loss: 0.266847, acc.: 98.12%] [G loss: 6.421518, GG loss 0.557939 , GD loss 5.863579]\n",
      "18 [D loss: 0.258795, acc.: 98.44%] [G loss: 6.429291, GG loss 0.516579 , GD loss 5.912712]\n",
      "19 [D loss: 0.248688, acc.: 98.44%] [G loss: 6.436552, GG loss 0.517981 , GD loss 5.918571]\n",
      "20 [D loss: 0.246879, acc.: 98.75%] [G loss: 6.413505, GG loss 0.503596 , GD loss 5.909909]\n",
      "21 [D loss: 0.264695, acc.: 98.12%] [G loss: 6.405117, GG loss 0.512614 , GD loss 5.892503]\n",
      "22 [D loss: 0.257896, acc.: 98.44%] [G loss: 6.362173, GG loss 0.511488 , GD loss 5.850685]\n",
      "23 [D loss: 0.252759, acc.: 99.38%] [G loss: 6.399965, GG loss 0.517565 , GD loss 5.882399]\n",
      "24 [D loss: 0.243779, acc.: 99.38%] [G loss: 6.388696, GG loss 0.505923 , GD loss 5.882773]\n",
      "25 [D loss: 0.253767, acc.: 98.44%] [G loss: 6.369911, GG loss 0.508136 , GD loss 5.861775]\n",
      "26 [D loss: 0.241188, acc.: 100.00%] [G loss: 6.264213, GG loss 0.454978 , GD loss 5.809235]\n",
      "27 [D loss: 0.244341, acc.: 99.69%] [G loss: 6.266544, GG loss 0.452383 , GD loss 5.814160]\n",
      "28 [D loss: 0.255782, acc.: 98.44%] [G loss: 6.306472, GG loss 0.477678 , GD loss 5.828794]\n",
      "29 [D loss: 0.240386, acc.: 99.69%] [G loss: 6.301251, GG loss 0.459651 , GD loss 5.841600]\n",
      "30 [D loss: 0.250654, acc.: 99.06%] [G loss: 6.285189, GG loss 0.424860 , GD loss 5.860329]\n",
      "31 [D loss: 0.244184, acc.: 99.06%] [G loss: 6.265124, GG loss 0.432950 , GD loss 5.832174]\n",
      "32 [D loss: 0.242332, acc.: 99.69%] [G loss: 6.282337, GG loss 0.405115 , GD loss 5.877222]\n",
      "33 [D loss: 0.234391, acc.: 100.00%] [G loss: 6.275153, GG loss 0.414249 , GD loss 5.860903]\n",
      "34 [D loss: 0.240820, acc.: 100.00%] [G loss: 6.210914, GG loss 0.401160 , GD loss 5.809754]\n",
      "35 [D loss: 0.252283, acc.: 99.06%] [G loss: 6.295802, GG loss 0.433520 , GD loss 5.862282]\n",
      "36 [D loss: 0.241047, acc.: 99.69%] [G loss: 6.243243, GG loss 0.396025 , GD loss 5.847218]\n",
      "37 [D loss: 0.237265, acc.: 99.38%] [G loss: 6.240343, GG loss 0.364250 , GD loss 5.876093]\n",
      "38 [D loss: 0.247633, acc.: 99.06%] [G loss: 6.206172, GG loss 0.375871 , GD loss 5.830301]\n",
      "39 [D loss: 0.241840, acc.: 100.00%] [G loss: 6.238902, GG loss 0.387127 , GD loss 5.851776]\n",
      "40 [D loss: 0.242039, acc.: 99.69%] [G loss: 6.192148, GG loss 0.370597 , GD loss 5.821551]\n",
      "41 [D loss: 0.243944, acc.: 99.06%] [G loss: 6.162048, GG loss 0.359182 , GD loss 5.802866]\n",
      "42 [D loss: 0.235535, acc.: 99.69%] [G loss: 6.249756, GG loss 0.384694 , GD loss 5.865061]\n",
      "43 [D loss: 0.251466, acc.: 98.44%] [G loss: 6.245640, GG loss 0.371594 , GD loss 5.874046]\n",
      "44 [D loss: 0.240079, acc.: 99.69%] [G loss: 6.215498, GG loss 0.356060 , GD loss 5.859437]\n",
      "45 [D loss: 0.247882, acc.: 98.75%] [G loss: 6.184969, GG loss 0.378088 , GD loss 5.806881]\n",
      "46 [D loss: 0.237691, acc.: 99.69%] [G loss: 6.175593, GG loss 0.376743 , GD loss 5.798850]\n",
      "47 [D loss: 0.259218, acc.: 97.81%] [G loss: 6.181129, GG loss 0.390371 , GD loss 5.790758]\n",
      "48 [D loss: 0.241854, acc.: 99.06%] [G loss: 6.170956, GG loss 0.360783 , GD loss 5.810173]\n",
      "49 [D loss: 0.239056, acc.: 99.69%] [G loss: 6.147415, GG loss 0.349738 , GD loss 5.797677]\n",
      "50 [D loss: 0.242084, acc.: 99.38%] [G loss: 6.141107, GG loss 0.333435 , GD loss 5.807672]\n",
      "51 [D loss: 0.239459, acc.: 99.38%] [G loss: 6.145158, GG loss 0.350709 , GD loss 5.794449]\n",
      "52 [D loss: 0.238467, acc.: 99.38%] [G loss: 6.157127, GG loss 0.332960 , GD loss 5.824167]\n",
      "53 [D loss: 0.239785, acc.: 99.69%] [G loss: 6.149757, GG loss 0.355507 , GD loss 5.794251]\n",
      "54 [D loss: 0.238560, acc.: 99.69%] [G loss: 6.171834, GG loss 0.348332 , GD loss 5.823502]\n",
      "55 [D loss: 0.233902, acc.: 100.00%] [G loss: 6.138171, GG loss 0.326495 , GD loss 5.811675]\n",
      "56 [D loss: 0.231819, acc.: 100.00%] [G loss: 6.140413, GG loss 0.345984 , GD loss 5.794429]\n",
      "57 [D loss: 0.237032, acc.: 99.69%] [G loss: 6.221363, GG loss 0.365879 , GD loss 5.855484]\n",
      "58 [D loss: 0.237147, acc.: 99.69%] [G loss: 6.100175, GG loss 0.342068 , GD loss 5.758108]\n",
      "59 [D loss: 0.231925, acc.: 99.69%] [G loss: 6.210123, GG loss 0.358771 , GD loss 5.851352]\n",
      "60 [D loss: 0.234526, acc.: 100.00%] [G loss: 6.216893, GG loss 0.345432 , GD loss 5.871461]\n",
      "61 [D loss: 0.242853, acc.: 99.38%] [G loss: 6.200970, GG loss 0.352830 , GD loss 5.848140]\n",
      "62 [D loss: 0.237980, acc.: 100.00%] [G loss: 6.196445, GG loss 0.341022 , GD loss 5.855423]\n",
      "63 [D loss: 0.241564, acc.: 99.38%] [G loss: 6.145569, GG loss 0.335549 , GD loss 5.810020]\n",
      "64 [D loss: 0.236863, acc.: 99.38%] [G loss: 6.145380, GG loss 0.326153 , GD loss 5.819227]\n",
      "65 [D loss: 0.231142, acc.: 99.69%] [G loss: 6.159002, GG loss 0.328453 , GD loss 5.830549]\n",
      "66 [D loss: 0.229847, acc.: 100.00%] [G loss: 6.130973, GG loss 0.302064 , GD loss 5.828909]\n",
      "67 [D loss: 0.230203, acc.: 99.69%] [G loss: 6.088201, GG loss 0.297170 , GD loss 5.791031]\n",
      "68 [D loss: 0.227491, acc.: 100.00%] [G loss: 6.140886, GG loss 0.306028 , GD loss 5.834858]\n",
      "69 [D loss: 0.233168, acc.: 100.00%] [G loss: 6.144324, GG loss 0.297692 , GD loss 5.846632]\n",
      "70 [D loss: 0.233730, acc.: 100.00%] [G loss: 6.144027, GG loss 0.310202 , GD loss 5.833825]\n",
      "71 [D loss: 0.231260, acc.: 99.69%] [G loss: 6.110593, GG loss 0.299084 , GD loss 5.811509]\n",
      "72 [D loss: 0.229328, acc.: 100.00%] [G loss: 6.109224, GG loss 0.296331 , GD loss 5.812892]\n",
      "73 [D loss: 0.233158, acc.: 99.69%] [G loss: 6.088266, GG loss 0.283694 , GD loss 5.804572]\n",
      "74 [D loss: 0.226805, acc.: 99.69%] [G loss: 6.106657, GG loss 0.301624 , GD loss 5.805033]\n",
      "75 [D loss: 0.232044, acc.: 100.00%] [G loss: 6.138517, GG loss 0.302477 , GD loss 5.836039]\n",
      "76 [D loss: 0.231956, acc.: 99.06%] [G loss: 6.190415, GG loss 0.316283 , GD loss 5.874132]\n",
      "77 [D loss: 0.235423, acc.: 99.38%] [G loss: 6.166529, GG loss 0.307196 , GD loss 5.859333]\n",
      "78 [D loss: 0.236211, acc.: 99.38%] [G loss: 6.140691, GG loss 0.304550 , GD loss 5.836141]\n",
      "79 [D loss: 0.233423, acc.: 99.69%] [G loss: 6.179388, GG loss 0.313086 , GD loss 5.866301]\n",
      "80 [D loss: 0.227241, acc.: 99.69%] [G loss: 6.136731, GG loss 0.302717 , GD loss 5.834014]\n",
      "81 [D loss: 0.229222, acc.: 99.38%] [G loss: 6.066777, GG loss 0.296319 , GD loss 5.770458]\n",
      "82 [D loss: 0.224680, acc.: 100.00%] [G loss: 6.121449, GG loss 0.298603 , GD loss 5.822846]\n",
      "83 [D loss: 0.228351, acc.: 99.69%] [G loss: 6.117410, GG loss 0.300429 , GD loss 5.816981]\n",
      "84 [D loss: 0.231343, acc.: 99.69%] [G loss: 6.125840, GG loss 0.309734 , GD loss 5.816107]\n",
      "85 [D loss: 0.227088, acc.: 99.69%] [G loss: 6.182083, GG loss 0.317631 , GD loss 5.864451]\n",
      "86 [D loss: 0.227009, acc.: 100.00%] [G loss: 6.100197, GG loss 0.328209 , GD loss 5.771988]\n",
      "87 [D loss: 0.228177, acc.: 99.69%] [G loss: 6.168006, GG loss 0.323571 , GD loss 5.844435]\n",
      "88 [D loss: 0.227674, acc.: 100.00%] [G loss: 6.141349, GG loss 0.315866 , GD loss 5.825483]\n",
      "89 [D loss: 0.226474, acc.: 100.00%] [G loss: 6.129563, GG loss 0.317921 , GD loss 5.811642]\n",
      "90 [D loss: 0.226776, acc.: 99.69%] [G loss: 6.129397, GG loss 0.315050 , GD loss 5.814347]\n",
      "91 [D loss: 0.225110, acc.: 99.69%] [G loss: 6.171809, GG loss 0.323340 , GD loss 5.848468]\n",
      "92 [D loss: 0.224998, acc.: 99.69%] [G loss: 6.122380, GG loss 0.326634 , GD loss 5.795747]\n",
      "93 [D loss: 0.228218, acc.: 99.69%] [G loss: 6.111082, GG loss 0.313405 , GD loss 5.797677]\n",
      "94 [D loss: 0.219808, acc.: 100.00%] [G loss: 6.130275, GG loss 0.336336 , GD loss 5.793939]\n",
      "95 [D loss: 0.229811, acc.: 99.69%] [G loss: 6.100975, GG loss 0.321125 , GD loss 5.779851]\n",
      "96 [D loss: 0.228635, acc.: 99.69%] [G loss: 6.074652, GG loss 0.299893 , GD loss 5.774759]\n",
      "97 [D loss: 0.221929, acc.: 100.00%] [G loss: 6.144672, GG loss 0.291318 , GD loss 5.853354]\n",
      "98 [D loss: 0.222651, acc.: 100.00%] [G loss: 6.102996, GG loss 0.279270 , GD loss 5.823726]\n",
      "99 [D loss: 0.224171, acc.: 100.00%] [G loss: 6.081478, GG loss 0.286374 , GD loss 5.795104]\n"
     ]
    }
   ],
   "source": [
    "train(100,16,10,5)"
   ]
  },
  {
   "cell_type": "code",
   "execution_count": 14,
   "metadata": {},
   "outputs": [],
   "source": [
    "# generate_and_save_images(generator,600)"
   ]
  },
  {
   "cell_type": "code",
   "execution_count": 15,
   "metadata": {},
   "outputs": [],
   "source": [
    "# combined.save_weights('./Checkpoints/Final_Combined_solution_{:06d}.h5'.format(600))\n",
    "# generator.save_weights('./Checkpoints/Final_Gen_solution_{:06d}.h5'.format(600))\n",
    "# discriminator.save_weights('./Checkpoints/Final_Disc_solution_{:06d}.h5'.format(600))"
   ]
  },
  {
   "cell_type": "markdown",
   "metadata": {},
   "source": [
    "Reload Model and Continue Training"
   ]
  },
  {
   "cell_type": "code",
   "execution_count": 16,
   "metadata": {},
   "outputs": [],
   "source": [
    "def load_model_weights(epoch):\n",
    "    generator, discriminator , combined = create_gan()\n",
    "    generator.load_weights('./Checkpoints/Final_Gen_solution_{:06d}.h5'.format(epoch))\n",
    "    combined.load_weights('./Checkpoints/Final_Combined_solution_{:06d}.h5'.format(epoch))\n",
    "    discriminator.load_weights('./Checkpoints/Final_Disc_solution_{:06d}.h5'.format(epoch))\n",
    "    return generator,discriminator,combined"
   ]
  },
  {
   "cell_type": "code",
   "execution_count": 17,
   "metadata": {},
   "outputs": [],
   "source": [
    "# generator, discriminator , combined = load_model_weights(600)"
   ]
  },
  {
   "cell_type": "code",
   "execution_count": 18,
   "metadata": {},
   "outputs": [],
   "source": [
    "# generate_and_save_images(generator,123)\n"
   ]
  },
  {
   "cell_type": "code",
   "execution_count": 19,
   "metadata": {},
   "outputs": [],
   "source": [
    "# train(100,16,10,5)"
   ]
  },
  {
   "cell_type": "code",
   "execution_count": 20,
   "metadata": {},
   "outputs": [],
   "source": [
    "def plot_image(imagep):\n",
    "    image = img_to_array(load_img(imagep,target_size=(HEIGHT,WIDTH)))\n",
    "    lab_image = rgb2lab( (1/255) * image)\n",
    "    x = lab_image[:,:,0].reshape(1,HEIGHT,WIDTH,1)\n",
    "   \n",
    "    predictions = generator.predict(x)\n",
    "    img = np.zeros((WIDTH,HEIGHT,3)).reshape(HEIGHT,WIDTH,3)\n",
    "    print(predictions.shape)\n",
    "    img[:,:,0] =x.reshape(HEIGHT,WIDTH)\n",
    "    img[:,:,1:] = predictions.reshape(HEIGHT,WIDTH,2) *128\n",
    "    img = lab2rgb(img)\n",
    "    plt.imshow(img)\n",
    "    plt.axis('off')\n",
    "    # plt.imshow(image/255)\n",
    "    plt.axis('off')\n",
    "    # plt.show()\n",
    "\n",
    "    \n",
    "    \n"
   ]
  },
  {
   "cell_type": "code",
   "execution_count": 21,
   "metadata": {},
   "outputs": [
    {
     "name": "stdout",
     "output_type": "stream",
     "text": [
      "(1, 128, 128, 2)\n"
     ]
    },
    {
     "name": "stderr",
     "output_type": "stream",
     "text": [
      "c:\\Users\\marco\\AppData\\Local\\Programs\\Python\\Python37\\lib\\site-packages\\skimage\\_shared\\utils.py:394: UserWarning: Color data out of range: Z < 0 in 8682 pixels\n",
      "  return func(*args, **kwargs)\n"
     ]
    },
    {
     "data": {
      "image/png": "[encoded data removed]",
      "text/plain": [
       "<Figure size 432x288 with 1 Axes>"
      ]
     },
     "metadata": {
      "needs_background": "light"
     },
     "output_type": "display_data"
    }
   ],
   "source": [
    "plot_image(r\"E:\\Manmade\\Fotos\\ANIME PICS\\PicsArt_02-28-05.23.57.png\")"
   ]
  }
 ],
 "metadata": {
  "kernelspec": {
   "display_name": "Python 3.7.6 64-bit",
   "language": "python",
   "name": "python3"
  },
  "language_info": {
   "codemirror_mode": {
    "name": "ipython",
    "version": 3
   },
   "file_extension": ".py",
   "mimetype": "text/x-python",
   "name": "python",
   "nbconvert_exporter": "python",
   "pygments_lexer": "ipython3",
   "version": "3.7.6"
  },
  "orig_nbformat": 4,
  "vscode": {
   "interpreter": {
    "hash": "ce38e80e5198e1a528032d773ef998b5a6815c06ae2381a5a6ff105db93cfe61"
   }
  }
 },
 "nbformat": 4,
 "nbformat_minor": 2
}
